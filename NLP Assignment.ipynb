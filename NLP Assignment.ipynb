{
 "cells": [
  {
   "cell_type": "markdown",
   "id": "30f92181-5eb7-4bce-9875-f09a0a72618b",
   "metadata": {},
   "source": [
    "## Importing and downloading libraries"
   ]
  },
  {
   "cell_type": "code",
   "execution_count": 1,
   "id": "09e2b4bd-c910-4deb-8e3a-6dd2c93157c8",
   "metadata": {},
   "outputs": [],
   "source": [
    "import nltk\n",
    "import spacy\n",
    "import pandas as pd\n",
    "import numpy as np\n",
    "from nltk.tokenize import sent_tokenize,word_tokenize"
   ]
  },
  {
   "cell_type": "code",
   "execution_count": 2,
   "id": "809cf041-099d-446e-8d8e-07fbcf6c5290",
   "metadata": {},
   "outputs": [
    {
     "name": "stderr",
     "output_type": "stream",
     "text": [
      "[nltk_data] Downloading package stopwords to\n",
      "[nltk_data]     C:\\Users\\A0826873\\AppData\\Roaming\\nltk_data...\n",
      "[nltk_data]   Package stopwords is already up-to-date!\n",
      "[nltk_data] Downloading package punkt to\n",
      "[nltk_data]     C:\\Users\\A0826873\\AppData\\Roaming\\nltk_data...\n",
      "[nltk_data]   Package punkt is already up-to-date!\n"
     ]
    }
   ],
   "source": [
    "nltk.download('stopwords')\n",
    "nltk.download('punkt')\n",
    "from nltk.corpus import stopwords\n",
    "from string import punctuation"
   ]
  },
  {
   "cell_type": "markdown",
   "id": "15a0a6d7-6070-4fa1-b84e-ed0dcfbf5daa",
   "metadata": {},
   "source": [
    "## Reading file into data set"
   ]
  },
  {
   "cell_type": "code",
   "execution_count": 3,
   "id": "667ccecb-36fb-4675-80bb-2e7b0e8f8766",
   "metadata": {},
   "outputs": [],
   "source": [
    "data = pd.read_csv(\"./Data/DataSet.csv\")"
   ]
  },
  {
   "cell_type": "markdown",
   "id": "918dcf00-e866-44b6-b8d6-56a24ecdd474",
   "metadata": {},
   "source": [
    "## Printing size, shape and descriptions and information"
   ]
  },
  {
   "cell_type": "code",
   "execution_count": 4,
   "id": "7abc2464-ccd5-4bab-8778-bfc52a1dcf8f",
   "metadata": {},
   "outputs": [
    {
     "name": "stdout",
     "output_type": "stream",
     "text": [
      "                                                post         tags\n",
      "0  what is causing this behavior  in our c# datet...           c#\n",
      "1  have dynamic html load as if it was in an ifra...      asp.net\n",
      "2  how to convert a float value in to min:sec  i ...  objective-c\n",
      "3  .net framework 4 redistributable  just wonderi...         .net\n",
      "4  trying to calculate and print the mean and its...       python\n",
      "\n",
      "Size 80000\n",
      "\n",
      "Shpae (40000, 2)\n",
      "                                                     post   tags\n",
      "count                                               40000  40000\n",
      "unique                                              40000     20\n",
      "top     what is causing this behavior  in our c# datet...     c#\n",
      "freq                                                    1   2000\n",
      "<class 'pandas.core.frame.DataFrame'>\n",
      "RangeIndex: 40000 entries, 0 to 39999\n",
      "Data columns (total 2 columns):\n",
      " #   Column  Non-Null Count  Dtype \n",
      "---  ------  --------------  ----- \n",
      " 0   post    40000 non-null  object\n",
      " 1   tags    40000 non-null  object\n",
      "dtypes: object(2)\n",
      "memory usage: 625.1+ KB\n",
      "None\n"
     ]
    }
   ],
   "source": [
    "print(data.head())\n",
    "print(\"\\nSize %s\"%data.size)\n",
    "print(\"\\nShpae {}\".format(data.shape))\n",
    "print(data.describe())\n",
    "print(data.info())"
   ]
  },
  {
   "cell_type": "markdown",
   "id": "b87e797d-51a9-4336-90d9-78e1ccfc69c3",
   "metadata": {},
   "source": [
    "## Removing stopwords and punctuations"
   ]
  },
  {
   "cell_type": "code",
   "execution_count": 5,
   "id": "fe3eda24-c896-4e56-af33-be8c4818b47c",
   "metadata": {},
   "outputs": [
    {
     "data": {
      "text/html": [
       "<div>\n",
       "<style scoped>\n",
       "    .dataframe tbody tr th:only-of-type {\n",
       "        vertical-align: middle;\n",
       "    }\n",
       "\n",
       "    .dataframe tbody tr th {\n",
       "        vertical-align: top;\n",
       "    }\n",
       "\n",
       "    .dataframe thead th {\n",
       "        text-align: right;\n",
       "    }\n",
       "</style>\n",
       "<table border=\"1\" class=\"dataframe\">\n",
       "  <thead>\n",
       "    <tr style=\"text-align: right;\">\n",
       "      <th></th>\n",
       "      <th>post</th>\n",
       "      <th>tags</th>\n",
       "      <th>post_m</th>\n",
       "    </tr>\n",
       "  </thead>\n",
       "  <tbody>\n",
       "    <tr>\n",
       "      <th>0</th>\n",
       "      <td>what is causing this behavior  in our c# datet...</td>\n",
       "      <td>c#</td>\n",
       "      <td>[causing, behavior, c, datetime, type, pre, co...</td>\n",
       "    </tr>\n",
       "    <tr>\n",
       "      <th>1</th>\n",
       "      <td>have dynamic html load as if it was in an ifra...</td>\n",
       "      <td>asp.net</td>\n",
       "      <td>[dynamic, html, load, iframe, asp.net, 4.0, si...</td>\n",
       "    </tr>\n",
       "    <tr>\n",
       "      <th>2</th>\n",
       "      <td>how to convert a float value in to min:sec  i ...</td>\n",
       "      <td>objective-c</td>\n",
       "      <td>[convert, float, value, min, sec, trying, conv...</td>\n",
       "    </tr>\n",
       "    <tr>\n",
       "      <th>3</th>\n",
       "      <td>.net framework 4 redistributable  just wonderi...</td>\n",
       "      <td>.net</td>\n",
       "      <td>[.net, framework, 4, redistributable, wonderin...</td>\n",
       "    </tr>\n",
       "    <tr>\n",
       "      <th>4</th>\n",
       "      <td>trying to calculate and print the mean and its...</td>\n",
       "      <td>python</td>\n",
       "      <td>[trying, calculate, print, mean, returning, fu...</td>\n",
       "    </tr>\n",
       "  </tbody>\n",
       "</table>\n",
       "</div>"
      ],
      "text/plain": [
       "                                                post         tags  \\\n",
       "0  what is causing this behavior  in our c# datet...           c#   \n",
       "1  have dynamic html load as if it was in an ifra...      asp.net   \n",
       "2  how to convert a float value in to min:sec  i ...  objective-c   \n",
       "3  .net framework 4 redistributable  just wonderi...         .net   \n",
       "4  trying to calculate and print the mean and its...       python   \n",
       "\n",
       "                                              post_m  \n",
       "0  [causing, behavior, c, datetime, type, pre, co...  \n",
       "1  [dynamic, html, load, iframe, asp.net, 4.0, si...  \n",
       "2  [convert, float, value, min, sec, trying, conv...  \n",
       "3  [.net, framework, 4, redistributable, wonderin...  \n",
       "4  [trying, calculate, print, mean, returning, fu...  "
      ]
     },
     "execution_count": 5,
     "metadata": {},
     "output_type": "execute_result"
    }
   ],
   "source": [
    "punctuations = list(punctuation)\n",
    "stop_words = stopwords.words(\"english\")\n",
    "data[\"post_m\"]=data[\"post\"].map(lambda r:[token for token in  word_tokenize(r) if  token not in stop_words and token not in punctuations])\n",
    "data.head()"
   ]
  },
  {
   "cell_type": "code",
   "execution_count": 6,
   "id": "61c7f576-bf59-4b53-82eb-fd023012de97",
   "metadata": {},
   "outputs": [],
   "source": [
    "data[\"post_m\"] = data.post_m.apply(lambda post:\" \".join(post))"
   ]
  },
  {
   "cell_type": "code",
   "execution_count": 7,
   "id": "e2341d88-e246-4fea-a130-e930e6a61cd7",
   "metadata": {},
   "outputs": [
    {
     "data": {
      "text/html": [
       "<div>\n",
       "<style scoped>\n",
       "    .dataframe tbody tr th:only-of-type {\n",
       "        vertical-align: middle;\n",
       "    }\n",
       "\n",
       "    .dataframe tbody tr th {\n",
       "        vertical-align: top;\n",
       "    }\n",
       "\n",
       "    .dataframe thead th {\n",
       "        text-align: right;\n",
       "    }\n",
       "</style>\n",
       "<table border=\"1\" class=\"dataframe\">\n",
       "  <thead>\n",
       "    <tr style=\"text-align: right;\">\n",
       "      <th></th>\n",
       "      <th>post</th>\n",
       "      <th>tags</th>\n",
       "      <th>post_m</th>\n",
       "    </tr>\n",
       "  </thead>\n",
       "  <tbody>\n",
       "    <tr>\n",
       "      <th>0</th>\n",
       "      <td>what is causing this behavior  in our c# datet...</td>\n",
       "      <td>c#</td>\n",
       "      <td>causing behavior c datetime type pre code test...</td>\n",
       "    </tr>\n",
       "    <tr>\n",
       "      <th>1</th>\n",
       "      <td>have dynamic html load as if it was in an ifra...</td>\n",
       "      <td>asp.net</td>\n",
       "      <td>dynamic html load iframe asp.net 4.0 site user...</td>\n",
       "    </tr>\n",
       "    <tr>\n",
       "      <th>2</th>\n",
       "      <td>how to convert a float value in to min:sec  i ...</td>\n",
       "      <td>objective-c</td>\n",
       "      <td>convert float value min sec trying convert sec...</td>\n",
       "    </tr>\n",
       "    <tr>\n",
       "      <th>3</th>\n",
       "      <td>.net framework 4 redistributable  just wonderi...</td>\n",
       "      <td>.net</td>\n",
       "      <td>.net framework 4 redistributable wondering get...</td>\n",
       "    </tr>\n",
       "    <tr>\n",
       "      <th>4</th>\n",
       "      <td>trying to calculate and print the mean and its...</td>\n",
       "      <td>python</td>\n",
       "      <td>trying calculate print mean returning function...</td>\n",
       "    </tr>\n",
       "  </tbody>\n",
       "</table>\n",
       "</div>"
      ],
      "text/plain": [
       "                                                post         tags  \\\n",
       "0  what is causing this behavior  in our c# datet...           c#   \n",
       "1  have dynamic html load as if it was in an ifra...      asp.net   \n",
       "2  how to convert a float value in to min:sec  i ...  objective-c   \n",
       "3  .net framework 4 redistributable  just wonderi...         .net   \n",
       "4  trying to calculate and print the mean and its...       python   \n",
       "\n",
       "                                              post_m  \n",
       "0  causing behavior c datetime type pre code test...  \n",
       "1  dynamic html load iframe asp.net 4.0 site user...  \n",
       "2  convert float value min sec trying convert sec...  \n",
       "3  .net framework 4 redistributable wondering get...  \n",
       "4  trying calculate print mean returning function...  "
      ]
     },
     "execution_count": 7,
     "metadata": {},
     "output_type": "execute_result"
    }
   ],
   "source": [
    "data.head()"
   ]
  },
  {
   "cell_type": "markdown",
   "id": "6a65444e-ffee-43c5-8cf5-9cef561b6a88",
   "metadata": {},
   "source": [
    "Create two objects X and y. X will be the ' post’ column of the above dataframe and y will be the ' tag' column. Create a CountVectorizer object and split the data into training and testing sets. Train a Multino mialNB model for classifying the tag label of reviews and Display the confusion Matrix (5 Marks)[Creating Multinominal NB model is higher complexity Question. To get full marks it must be addressed properly ]"
   ]
  },
  {
   "cell_type": "code",
   "execution_count": 8,
   "id": "bb96f6a7-4722-45dc-af1d-9e035a5bfa38",
   "metadata": {},
   "outputs": [
    {
     "data": {
      "text/plain": [
       "array(['00', '000', '0000', ..., 'در', 'دستگاه', 'پرداخت'], dtype=object)"
      ]
     },
     "execution_count": 8,
     "metadata": {},
     "output_type": "execute_result"
    }
   ],
   "source": [
    "from sklearn.feature_extraction.text import CountVectorizer\n",
    "vectorizer = CountVectorizer(analyzer='word',max_features=20000)\n",
    "X = vectorizer.fit_transform(data[\"post_m\"])\n",
    "vectorizer.get_feature_names_out()"
   ]
  },
  {
   "cell_type": "code",
   "execution_count": 9,
   "id": "1c93adf9-008b-4b9b-9307-8ea343a2b84e",
   "metadata": {},
   "outputs": [
    {
     "data": {
      "text/plain": [
       "array([[0, 1, 0, ..., 0, 0, 0],\n",
       "       [0, 0, 0, ..., 0, 0, 0],\n",
       "       [0, 0, 0, ..., 0, 0, 0],\n",
       "       ...,\n",
       "       [0, 0, 0, ..., 0, 0, 0],\n",
       "       [0, 0, 0, ..., 0, 0, 0],\n",
       "       [0, 0, 0, ..., 0, 0, 0]], dtype=int64)"
      ]
     },
     "execution_count": 9,
     "metadata": {},
     "output_type": "execute_result"
    }
   ],
   "source": [
    "X.toarray()"
   ]
  },
  {
   "cell_type": "code",
   "execution_count": 10,
   "id": "101d0002-c51b-4259-b86b-97c0bad00279",
   "metadata": {},
   "outputs": [
    {
     "name": "stdout",
     "output_type": "stream",
     "text": [
      "[ 5  3 15 ...  4  2  1]\n"
     ]
    }
   ],
   "source": [
    "y = data.tags\n",
    "# Import label encoder \n",
    "from sklearn import preprocessing\n",
    "# label_encoder object knows how to understand word labels. \n",
    "label_encoder = preprocessing.LabelEncoder()\n",
    "# Encode labels in column 'tag'. \n",
    "y = label_encoder.fit_transform(data[\"tags\"]) \n",
    "\n",
    "print(y)"
   ]
  },
  {
   "cell_type": "code",
   "execution_count": 11,
   "id": "c91918e6-cb42-4ccb-ae14-a65c680c6a78",
   "metadata": {},
   "outputs": [],
   "source": [
    "# splitting the data set into training set and test set\n",
    "from sklearn.model_selection import train_test_split\n",
    " \n",
    "X_train, X_test, y_train, y_test = train_test_split(\n",
    "           X.toarray(), y, test_size = 0.25, random_state = 0)"
   ]
  },
  {
   "cell_type": "code",
   "execution_count": 12,
   "id": "96fbee4f-2925-4006-bd21-f0d13213e1ef",
   "metadata": {},
   "outputs": [
    {
     "data": {
      "text/plain": [
       "array([0, 0, 0, ..., 0, 0, 0], dtype=int64)"
      ]
     },
     "execution_count": 12,
     "metadata": {},
     "output_type": "execute_result"
    }
   ],
   "source": [
    "X_train[0]"
   ]
  },
  {
   "cell_type": "code",
   "execution_count": 13,
   "id": "12abd02c-8751-4c94-8923-85e99476bc02",
   "metadata": {},
   "outputs": [
    {
     "data": {
      "text/plain": [
       "((30000, 20000), (30000,), (10000, 20000), (10000,))"
      ]
     },
     "execution_count": 13,
     "metadata": {},
     "output_type": "execute_result"
    }
   ],
   "source": [
    "X_train.shape,y_train.shape,X_test.shape,y_test.shape"
   ]
  },
  {
   "cell_type": "code",
   "execution_count": null,
   "id": "cda8fdae-e14c-49a5-ba76-0153bfb56d51",
   "metadata": {},
   "outputs": [],
   "source": [
    "# fitting naive bayes to the training set\n",
    "from sklearn.naive_bayes import GaussianNB\n",
    "from sklearn.metrics import confusion_matrix\n",
    "\n",
    "classifier = GaussianNB();\n",
    "classifier.fit(X_train, y_train)\n",
    "\n",
    "# predicting test set results\n",
    "y_pred = classifier.predict(X_test)\n",
    "\n",
    "# making the confusion matrix\n",
    "cm = confusion_matrix(y_test, y_pred)\n",
    "cm\n"
   ]
  },
  {
   "cell_type": "code",
   "execution_count": null,
   "id": "1b2cfc02-3bbd-4325-a051-bccc89c0d6fe",
   "metadata": {},
   "outputs": [],
   "source": [
    "import seaborn as sn\n",
    "import matplotlib.pyplot as plt\n",
    "fig= plt.figure(figsize=(15,10))\n",
    "cm_array_df = pd.DataFrame(cm, index=data.tags.unique(), columns=data.tags.unique())\n",
    "sn.heatmap(cm_array_df, annot=True, annot_kws={\"size\": 10}) \n",
    "#sn.heatmap(cm)\n",
    "#fig.x_ticks()\n",
    "plt.show()"
   ]
  },
  {
   "cell_type": "markdown",
   "id": "d134a6d8-8f8d-4bab-a20e-e02ef1dab0a3",
   "metadata": {},
   "source": [
    "## Display the HMM POS tagging on the first 4 rows of ‘post’ (3 Marks)"
   ]
  },
  {
   "cell_type": "code",
   "execution_count": null,
   "id": "d2f3aca5-fe3b-43e7-a2f5-d7ea8160da1a",
   "metadata": {},
   "outputs": [],
   "source": [
    "!python -m spacy download en_core_web_sm"
   ]
  },
  {
   "cell_type": "code",
   "execution_count": null,
   "id": "64250ebf-9639-425e-b139-87bd32a987ec",
   "metadata": {},
   "outputs": [],
   "source": [
    "import spacy\n",
    "\n",
    "from spacy import displacy\n",
    "\n",
    "nlp = spacy.load(\"en_core_web_sm\")\n",
    "\n",
    "for i in range(0,4):\n",
    "    doc = nlp(data.post_m[i])\n",
    "    displacy.serve(doc, style=\"dep\")"
   ]
  }
 ],
 "metadata": {
  "kernelspec": {
   "display_name": "Python 3 (ipykernel)",
   "language": "python",
   "name": "python3"
  },
  "language_info": {
   "codemirror_mode": {
    "name": "ipython",
    "version": 3
   },
   "file_extension": ".py",
   "mimetype": "text/x-python",
   "name": "python",
   "nbconvert_exporter": "python",
   "pygments_lexer": "ipython3",
   "version": "3.10.7"
  }
 },
 "nbformat": 4,
 "nbformat_minor": 5
}
